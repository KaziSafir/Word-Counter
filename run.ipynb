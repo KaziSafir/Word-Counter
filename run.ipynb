!pip install MRJob
!python wordcounter.py Hamlet.txt